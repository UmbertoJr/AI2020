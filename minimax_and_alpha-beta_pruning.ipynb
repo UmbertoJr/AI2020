{
  "nbformat": 4,
  "nbformat_minor": 0,
  "metadata": {
    "colab": {
      "name": "MinMax and Alpha Beta pruning.ipynb",
      "provenance": []
    },
    "kernelspec": {
      "name": "python3",
      "display_name": "Python 3"
    }
  },
  "cells": [
    {
      "cell_type": "code",
      "metadata": {
        "id": "TXhVkK_GKjBc"
      },
      "source": [
        "!rm -r AI2020/\n",
        "!git clone https://github.com/UmbertoJr/AI2020.git &> /dev/null"
      ],
      "execution_count": 1,
      "outputs": []
    },
    {
      "cell_type": "code",
      "metadata": {
        "colab": {
          "base_uri": "https://localhost:8080/"
        },
        "id": "c1ZNbDV2ts7N",
        "outputId": "c4e7c653-3806-4d55-e766-2c89b9ef89d4"
      },
      "source": [
        "!ls AI2020/images/"
      ],
      "execution_count": 2,
      "outputs": [
        {
          "output_type": "stream",
          "text": [
            "tic-tac-toe.png\n"
          ],
          "name": "stdout"
        }
      ]
    },
    {
      "cell_type": "markdown",
      "metadata": {
        "id": "bJSLOvz7I_JA"
      },
      "source": [
        "# AI search for the Tic-tac-toe\n",
        "\n",
        "## The *Game*"
      ]
    },
    {
      "cell_type": "code",
      "metadata": {
        "id": "wG1TxgVwVusx"
      },
      "source": [
        "import time\n",
        "import numpy as np\n",
        "\n",
        "class Game:\n",
        "  def __init__(self):\n",
        "    self.current_state = np.array([['.','.','.'],\n",
        "                                   ['.','.','.'],\n",
        "                                   ['.','.','.']])\n",
        "    # Player X always plays first\n",
        "    self.player_turn = 'X'\n",
        "\n",
        "  def draw_board(self):\n",
        "    for i in range(0, 3):\n",
        "      for j in range(0, 3):\n",
        "        print('{}|'.format(self.current_state[i][j]), end=\" \")\n",
        "      print()\n",
        "\n",
        "  # Determines if the made move is a legal move\n",
        "  def is_valid(self, px, py):\n",
        "    if px < 0 or px > 2 or py < 0 or py > 2:\n",
        "      return False\n",
        "    elif self.current_state[px][py] != '.':\n",
        "      return False\n",
        "    else:\n",
        "      return True\n",
        "\n",
        "  # Checks if the game has ended and returns the winner in each case\n",
        "  def is_end(self):\n",
        "    # Vertical win\n",
        "    for i in range(0, 3):\n",
        "      if (self.current_state[0][i] != '.' and\n",
        "          self.current_state[0][i] == self.current_state[1][i] and\n",
        "          self.current_state[1][i] == self.current_state[2][i]):\n",
        "        return self.current_state[0][i]\n",
        "\n",
        "    # Horizontal win\n",
        "    for i in range(0, 3):\n",
        "      if (self.current_state[i].tolist() == ['X', 'X', 'X']):\n",
        "        return 'X'\n",
        "      elif (self.current_state[i].tolist() == ['O', 'O', 'O']):\n",
        "        return 'O'\n",
        "\n",
        "    # Main diagonal win\n",
        "    if (self.current_state[0][0] != '.' and\n",
        "        self.current_state[0][0] == self.current_state[1][1] and\n",
        "        self.current_state[0][0] == self.current_state[2][2]):\n",
        "      return self.current_state[0][0]\n",
        "\n",
        "    # Second diagonal win\n",
        "    if (self.current_state[0][2] != '.' and\n",
        "        self.current_state[0][2] == self.current_state[1][1] and\n",
        "        self.current_state[0][2] == self.current_state[2][0]):\n",
        "      return self.current_state[0][2]\n",
        "\n",
        "    # Is whole board full?\n",
        "    for i in range(0, 3):\n",
        "        for j in range(0, 3):\n",
        "            # There's an empty field, we continue the game\n",
        "            if (self.current_state[i][j] == '.'):\n",
        "                return None\n",
        "\n",
        "    # It's a tie!\n",
        "    return '.'\n",
        "\n",
        "\n",
        "  def state(self):\n",
        "    self.winner = self.is_end()\n",
        "    if self.winner in [\"X\",\"O\",\".\"]:\n",
        "      return 'game over'\n",
        "    return 'continue'\n",
        "\n",
        "  def static_eval(self):\n",
        "    if self.winner == \"X\":\n",
        "      return 1\n",
        "    elif self.winner == \"O\":\n",
        "      return -1\n",
        "    else:\n",
        "      return 0\n",
        "\n",
        "\n",
        "  def children(self):\n",
        "    if self.player_turn == 'X':\n",
        "      for i in range(3):\n",
        "        for j in range(3):\n",
        "          if self.is_valid(i, j):\n",
        "            child = Game()\n",
        "            child.current_state = np.copy(self.current_state)\n",
        "            child.current_state[i][j] = \"X\"\n",
        "            child.player_turn = \"O\"\n",
        "            yield child\n",
        "\n",
        "    elif self.player_turn == 'O':\n",
        "      for i in range(3):\n",
        "        for j in range(3):\n",
        "          if self.is_valid(i, j):\n",
        "            child = Game()\n",
        "            child.current_state = np.copy(self.current_state)\n",
        "            child.current_state[i][j] = \"O\"\n",
        "            child.player_turn = \"X\"\n",
        "            yield child\n",
        "\n",
        "\n",
        "def play(game, strategy, alphabeta=False, to_plot=True):\n",
        "  remaining_pos = 9\n",
        "  while True:\n",
        "    alpha, beta = -2, 2\n",
        "    result = game.is_end()\n",
        "    if to_plot:\n",
        "      game.draw_board()\n",
        "      print()\n",
        "\n",
        "    # Printing the appropriate message if the game has ended\n",
        "    if result != None:\n",
        "      if to_plot:  \n",
        "        if result == 'X':\n",
        "          print('The winner is X!')\n",
        "        elif result == 'O':\n",
        "          print('The winner is O!')\n",
        "        elif result == '.':\n",
        "          print(\"It's a tie!\")\n",
        "      return\n",
        "\n",
        "    qx, qy = None, None\n",
        "    if game.player_turn == 'X':\n",
        "      max_move = -2\n",
        "      start = time.time()\n",
        "      for i in range(3):\n",
        "        for j in range(3):\n",
        "          if beta <= alpha:\n",
        "                break\n",
        "          if game.is_valid(i, j):\n",
        "            game.current_state[i][j] = \"X\"\n",
        "            game.player_turn = \"O\"\n",
        "            state_value = strategy(game, remaining_pos, True, alpha, beta )\n",
        "            game.current_state[i][j] = \".\"\n",
        "            game.player_turn = \"X\"\n",
        "            if state_value > max_move:\n",
        "              m, qx, qy = state_value, i, j\n",
        "              max_move = m\n",
        "            if alphabeta:\n",
        "              alpha = max(alpha, state_value)\n",
        "\n",
        "        if beta <= alpha:\n",
        "          break\n",
        "\n",
        "      end = time.time()\n",
        "      \n",
        "      if to_plot:  \n",
        "        print('Evaluation time: {}s'.format(round(end - start, 7)))\n",
        "        print('move X: X = {}, Y = {}'.format(qx, qy))\n",
        "        if alphabeta:\n",
        "          print(f'alpha {alpha}, beta {beta}')\n",
        "      game.current_state[qx][qy] = 'X'\n",
        "      game.player_turn = 'O'\n",
        "      remaining_pos -= 1\n",
        "\n",
        "    else:\n",
        "      min_move = 2\n",
        "      start = time.time()\n",
        "      for i in range(3):\n",
        "        for j in range(3):\n",
        "          if beta <= alpha:\n",
        "                break\n",
        "          if game.is_valid(i, j):\n",
        "            game.current_state[i][j] = \"O\"\n",
        "            game.player_turn = \"X\"\n",
        "            state_value = strategy(game, remaining_pos, False, alpha, beta )\n",
        "            game.current_state[i][j] = \".\"\n",
        "            game.player_turn = \"O\"\n",
        "            if state_value < min_move:\n",
        "              m, qx, qy = state_value, i, j\n",
        "              min_move = m\n",
        "            if alphabeta:\n",
        "              beta = min(beta, state_value)\n",
        "              \n",
        "        if beta <= alpha:\n",
        "          break\n",
        "              \n",
        "      end = time.time()\n",
        "      if to_plot:  \n",
        "        print('Evaluation time: {}s'.format(round(end - start, 7)))\n",
        "        print('move O: X = {}, Y = {}'.format(qx, qy))\n",
        "        if alphabeta:\n",
        "          print(f'alpha {alpha}, beta {beta}')\n",
        "      game.current_state[qx][qy] = 'O'\n",
        "      game.player_turn = 'X'\n",
        "      remaining_pos -= 1\n"
      ],
      "execution_count": 120,
      "outputs": []
    },
    {
      "cell_type": "markdown",
      "metadata": {
        "id": "kcXmZDa2JIIi"
      },
      "source": [
        "## Min Max"
      ]
    },
    {
      "cell_type": "code",
      "metadata": {
        "id": "vhHZp4D-JLFT"
      },
      "source": [
        "def minimax(game, depth, maximizingPlayer, *args):\n",
        "  if depth == 0 or 'game over' in game.state():\n",
        "    return game.static_eval()\n",
        "\n",
        "  if maximizingPlayer:\n",
        "    maxEval = -2\n",
        "    for child in game.children():\n",
        "      eval_position = minimax(child, depth - 1, maximizingPlayer=False) \n",
        "      maxEval = max(maxEval, eval_position)\n",
        "    return maxEval\n",
        "\n",
        "  else:\n",
        "    minEval = 2\n",
        "    for child in game.children():\n",
        "      eval_position = minimax(child, depth - 1, maximizingPlayer=True) \n",
        "      minEval = min(minEval, eval_position)\n",
        "    return minEval\n",
        "  "
      ],
      "execution_count": 111,
      "outputs": []
    },
    {
      "cell_type": "code",
      "metadata": {
        "colab": {
          "base_uri": "https://localhost:8080/"
        },
        "id": "A17oD-Ltrr0Y",
        "outputId": "4cd0c839-b11e-41cc-a8d2-07a2fd4daa0a"
      },
      "source": [
        "g = Game()\n",
        "play(g, minimax)"
      ],
      "execution_count": 112,
      "outputs": [
        {
          "output_type": "stream",
          "text": [
            ".| .| .| \n",
            ".| .| .| \n",
            ".| .| .| \n",
            "\n",
            "Evaluation time: 13.7935929s\n",
            "move X: X = 0, Y = 0\n",
            "X| .| .| \n",
            ".| .| .| \n",
            ".| .| .| \n",
            "\n",
            "Evaluation time: 2.6524286s\n",
            "move O: X = 0, Y = 2\n",
            "X| .| O| \n",
            ".| .| .| \n",
            ".| .| .| \n",
            "\n",
            "Evaluation time: 0.3783245s\n",
            "move X: X = 1, Y = 0\n",
            "X| .| O| \n",
            "X| .| .| \n",
            ".| .| .| \n",
            "\n",
            "Evaluation time: 0.0400286s\n",
            "move O: X = 2, Y = 0\n",
            "X| .| O| \n",
            "X| .| .| \n",
            "O| .| .| \n",
            "\n",
            "Evaluation time: 0.008553s\n",
            "move X: X = 1, Y = 1\n",
            "X| .| O| \n",
            "X| X| .| \n",
            "O| .| .| \n",
            "\n",
            "Evaluation time: 0.001683s\n",
            "move O: X = 2, Y = 2\n",
            "X| .| O| \n",
            "X| X| .| \n",
            "O| .| O| \n",
            "\n",
            "Evaluation time: 0.0003426s\n",
            "move X: X = 1, Y = 2\n",
            "X| .| O| \n",
            "X| X| X| \n",
            "O| .| O| \n",
            "\n",
            "The winner is X!\n"
          ],
          "name": "stdout"
        }
      ]
    },
    {
      "cell_type": "code",
      "metadata": {
        "colab": {
          "base_uri": "https://localhost:8080/"
        },
        "id": "7VcZi4Vp8S8z",
        "outputId": "2db7f024-88e5-4c38-d7a2-c8501e9ba25c"
      },
      "source": [
        "\n",
        "list_time = []\n",
        "for _ in range(100):\n",
        "  g = Game()\n",
        "  start = time.time()\n",
        "  play(g, minimax, to_plot=False)\n",
        "  list_time.append(time.time() - start)\n",
        "\n",
        "print(f\"average time for minimax: {np.mean(list_time)} +- {np.std(list_time)}\")"
      ],
      "execution_count": 125,
      "outputs": [
        {
          "output_type": "stream",
          "text": [
            "average time for minimax: 15.11209282398224 +- 0.1813645609383075\n"
          ],
          "name": "stdout"
        }
      ]
    },
    {
      "cell_type": "markdown",
      "metadata": {
        "id": "7CRbWwtgJMAV"
      },
      "source": [
        "# Alpha Beta pruning"
      ]
    },
    {
      "cell_type": "code",
      "metadata": {
        "id": "DMOHIMq7JOca"
      },
      "source": [
        "def minimax_pruned(game, depth, maximizingPlayer, alpha, beta):\n",
        "  if depth == 0 or 'game over' in game.state():\n",
        "    return game.static_eval()\n",
        "\n",
        "  if maximizingPlayer:\n",
        "    maxEval = -2\n",
        "    for child in game.children():\n",
        "      eval_position = minimax_pruned(child, depth - 1, False, alpha, beta) \n",
        "      maxEval = max(maxEval, eval_position)\n",
        "      alpha = max(alpha, eval_position)\n",
        "      if beta <= alpha:\n",
        "        break\n",
        "    return maxEval\n",
        "\n",
        "  else:\n",
        "    minEval = 2\n",
        "    for child in game.children():\n",
        "      eval_position = minimax_pruned(child, depth - 1, True, alpha, beta) \n",
        "      minEval = min(minEval, eval_position)\n",
        "      beta = min(beta, eval_position)\n",
        "      if beta <= alpha:\n",
        "        break\n",
        "    return minEval"
      ],
      "execution_count": 123,
      "outputs": []
    },
    {
      "cell_type": "code",
      "metadata": {
        "colab": {
          "base_uri": "https://localhost:8080/"
        },
        "id": "rMfz65cIrv1X",
        "outputId": "e8373d80-19aa-4066-abd6-520956863d19"
      },
      "source": [
        "# test on problem\n",
        "g = Game()\n",
        "play(g, minimax_pruned, alphabeta=True)"
      ],
      "execution_count": 124,
      "outputs": [
        {
          "output_type": "stream",
          "text": [
            ".| .| .| \n",
            ".| .| .| \n",
            ".| .| .| \n",
            "\n",
            "Evaluation time: 0.2931805s\n",
            "move X: X = 0, Y = 0\n",
            "alpha 1, beta 2\n",
            "X| .| .| \n",
            ".| .| .| \n",
            ".| .| .| \n",
            "\n",
            "Evaluation time: 0.2008045s\n",
            "move O: X = 0, Y = 2\n",
            "alpha -2, beta 0\n",
            "X| .| O| \n",
            ".| .| .| \n",
            ".| .| .| \n",
            "\n",
            "Evaluation time: 0.073489s\n",
            "move X: X = 1, Y = 0\n",
            "alpha 1, beta 2\n",
            "X| .| O| \n",
            "X| .| .| \n",
            ".| .| .| \n",
            "\n",
            "Evaluation time: 0.0194461s\n",
            "move O: X = 2, Y = 0\n",
            "alpha -2, beta -1\n",
            "X| .| O| \n",
            "X| .| .| \n",
            "O| .| .| \n",
            "\n",
            "Evaluation time: 0.0057344s\n",
            "move X: X = 1, Y = 1\n",
            "alpha 1, beta 2\n",
            "X| .| O| \n",
            "X| X| .| \n",
            "O| .| .| \n",
            "\n",
            "Evaluation time: 0.0038157s\n",
            "move O: X = 2, Y = 2\n",
            "alpha -2, beta -1\n",
            "X| .| O| \n",
            "X| X| .| \n",
            "O| .| O| \n",
            "\n",
            "Evaluation time: 0.0003941s\n",
            "move X: X = 1, Y = 2\n",
            "alpha 1, beta 2\n",
            "X| .| O| \n",
            "X| X| X| \n",
            "O| .| O| \n",
            "\n",
            "The winner is X!\n"
          ],
          "name": "stdout"
        }
      ]
    },
    {
      "cell_type": "code",
      "metadata": {
        "colab": {
          "base_uri": "https://localhost:8080/"
        },
        "id": "XmI3HW8v9HjW",
        "outputId": "9baf9cf2-e7f2-49f4-d809-c1f4c4d36205"
      },
      "source": [
        "\n",
        "list_time = []\n",
        "for _ in range(1000):\n",
        "  g = Game()\n",
        "  start = time.time()\n",
        "  play(g, minimax_pruned, alphabeta=True, to_plot=False)\n",
        "  list_time.append(time.time() - start)\n",
        "\n",
        "print(f\"average time for minimax with alpha-beta: {np.mean(list_time)} +- {np.std(list_time)}\")"
      ],
      "execution_count": 126,
      "outputs": [
        {
          "output_type": "stream",
          "text": [
            "average time for minimax with alpha-beta: 0.2921559052467346 +- 0.019459386393990433\n"
          ],
          "name": "stdout"
        }
      ]
    }
  ]
}